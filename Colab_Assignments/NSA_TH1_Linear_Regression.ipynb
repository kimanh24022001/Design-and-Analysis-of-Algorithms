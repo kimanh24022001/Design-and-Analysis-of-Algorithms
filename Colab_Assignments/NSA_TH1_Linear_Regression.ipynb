{
  "nbformat": 4,
  "nbformat_minor": 0,
  "metadata": {
    "colab": {
      "name": "NSA - TH1. Linear Regression",
      "provenance": []
    },
    "kernelspec": {
      "name": "python3",
      "display_name": "Python 3"
    },
    "language_info": {
      "name": "python"
    },
    "accelerator": "GPU"
  },
  "cells": [
    {
      "cell_type": "markdown",
      "metadata": {
        "id": "OXVYETYDvusr"
      },
      "source": [
        "# **LAB1: LINEAR REGRESSION**\n",
        "**Đề bài:** Xây dựng model Linear Regression dự đoán thời gian chạy chương trình dựa trên độ lớn bộ dữ liệu. Tập train và test được giảng viên cung cấp dưới dạng hai file .txt.\n"
      ]
    },
    {
      "cell_type": "markdown",
      "metadata": {
        "id": "iwiWCwHBwj7n"
      },
      "source": [
        "**Nhóm sinh viên thực hiện: NSA**\n",
        "    \n",
        "- 18521144 - Nguyễn Hữu Nghĩa\n",
        "- 18521353 - Trần Ngọc Sương\n",
        "- 20521072 - Nguyễn Thị Kim Anh"
      ]
    },
    {
      "cell_type": "code",
      "metadata": {
        "id": "KApkOQTWTcDN"
      },
      "source": [
        "#Import những packages cần thiết\n",
        "import numpy as np\n",
        "import pandas as pd\n",
        "import matplotlib.pyplot as plt\n",
        "import seaborn as sns\n",
        "import math\n",
        "%matplotlib inline\n",
        "\n",
        "from sklearn.linear_model import LinearRegression\n",
        "from sklearn.preprocessing import PolynomialFeatures, StandardScaler\n",
        "from sklearn import linear_model\n",
        "from sklearn.metrics import mean_squared_error as MSE \n",
        "from sklearn.metrics import r2_score as R2\n",
        "from sklearn.metrics import mean_absolute_error as MAE"
      ],
      "execution_count": null,
      "outputs": []
    },
    {
      "cell_type": "code",
      "metadata": {
        "colab": {
          "base_uri": "https://localhost:8080/"
        },
        "id": "t_WtP7iLfBor",
        "outputId": "fafc16d2-9e9a-4537-8dbb-250c0bbc078c"
      },
      "source": [
        "#Cấp quyền truy cập drive\n",
        "from google.colab import drive\n",
        "drive.mount('/content/drive')"
      ],
      "execution_count": null,
      "outputs": [
        {
          "output_type": "stream",
          "name": "stdout",
          "text": [
            "Mounted at /content/drive\n"
          ]
        }
      ]
    },
    {
      "cell_type": "markdown",
      "metadata": {
        "id": "vgtcmlbWYG07"
      },
      "source": [
        "# **READ DATA TỪ FILE TXT VÀ EXPLORATION DATA**"
      ]
    },
    {
      "cell_type": "markdown",
      "metadata": {
        "id": "tILytUgxYRuw"
      },
      "source": [
        "**X_train**"
      ]
    },
    {
      "cell_type": "code",
      "metadata": {
        "id": "1_HqzsjwYCFv"
      },
      "source": [
        "#Sử dụng pandas.read_csv để đọc dữ liệu từ file \"train.txt\"\n",
        "train_set = pd.read_csv(\"/content/drive/MyDrive/th1_data/train.txt\", names = [\"X\", \"y\"], header = None)"
      ],
      "execution_count": null,
      "outputs": []
    },
    {
      "cell_type": "code",
      "metadata": {
        "colab": {
          "base_uri": "https://localhost:8080/"
        },
        "id": "MJU8ZWn1uUDY",
        "outputId": "0aadf1f7-040f-4651-a237-f25038a91073"
      },
      "source": [
        "train_set.shape"
      ],
      "execution_count": null,
      "outputs": [
        {
          "output_type": "execute_result",
          "data": {
            "text/plain": [
              "(71115, 2)"
            ]
          },
          "metadata": {},
          "execution_count": 4
        }
      ]
    },
    {
      "cell_type": "code",
      "metadata": {
        "colab": {
          "base_uri": "https://localhost:8080/"
        },
        "id": "OWPlcxgJumjx",
        "outputId": "8ec4dcbc-0437-48d5-d089-d2191e7f1947"
      },
      "source": [
        "train_set.dtypes"
      ],
      "execution_count": null,
      "outputs": [
        {
          "output_type": "execute_result",
          "data": {
            "text/plain": [
              "X      int64\n",
              "y    float64\n",
              "dtype: object"
            ]
          },
          "metadata": {},
          "execution_count": 5
        }
      ]
    },
    {
      "cell_type": "code",
      "metadata": {
        "colab": {
          "base_uri": "https://localhost:8080/",
          "height": 206
        },
        "id": "Pyt_T8Ypg5nd",
        "outputId": "1dd57636-97b0-44ac-c243-554bf0e99ab6"
      },
      "source": [
        "#Lấy mẫu 5 bộ\n",
        "sample_train = train_set.sample(n=5)\n",
        "sample_train"
      ],
      "execution_count": null,
      "outputs": [
        {
          "output_type": "execute_result",
          "data": {
            "text/html": [
              "<div>\n",
              "<style scoped>\n",
              "    .dataframe tbody tr th:only-of-type {\n",
              "        vertical-align: middle;\n",
              "    }\n",
              "\n",
              "    .dataframe tbody tr th {\n",
              "        vertical-align: top;\n",
              "    }\n",
              "\n",
              "    .dataframe thead th {\n",
              "        text-align: right;\n",
              "    }\n",
              "</style>\n",
              "<table border=\"1\" class=\"dataframe\">\n",
              "  <thead>\n",
              "    <tr style=\"text-align: right;\">\n",
              "      <th></th>\n",
              "      <th>X</th>\n",
              "      <th>y</th>\n",
              "    </tr>\n",
              "  </thead>\n",
              "  <tbody>\n",
              "    <tr>\n",
              "      <th>2586</th>\n",
              "      <td>9708790</td>\n",
              "      <td>0.818996</td>\n",
              "    </tr>\n",
              "    <tr>\n",
              "      <th>40715</th>\n",
              "      <td>1358077</td>\n",
              "      <td>0.099928</td>\n",
              "    </tr>\n",
              "    <tr>\n",
              "      <th>2591</th>\n",
              "      <td>1407803</td>\n",
              "      <td>0.101815</td>\n",
              "    </tr>\n",
              "    <tr>\n",
              "      <th>15921</th>\n",
              "      <td>1427289</td>\n",
              "      <td>0.104260</td>\n",
              "    </tr>\n",
              "    <tr>\n",
              "      <th>62904</th>\n",
              "      <td>4300472</td>\n",
              "      <td>0.345486</td>\n",
              "    </tr>\n",
              "  </tbody>\n",
              "</table>\n",
              "</div>"
            ],
            "text/plain": [
              "             X         y\n",
              "2586   9708790  0.818996\n",
              "40715  1358077  0.099928\n",
              "2591   1407803  0.101815\n",
              "15921  1427289  0.104260\n",
              "62904  4300472  0.345486"
            ]
          },
          "metadata": {},
          "execution_count": 6
        }
      ]
    },
    {
      "cell_type": "code",
      "metadata": {
        "colab": {
          "base_uri": "https://localhost:8080/",
          "height": 300
        },
        "id": "3GSlqwA1hSG_",
        "outputId": "70e28827-7020-4f1a-c076-100f26e91d08"
      },
      "source": [
        "#Desrcibe bộ test\n",
        "train_set.describe()"
      ],
      "execution_count": null,
      "outputs": [
        {
          "output_type": "execute_result",
          "data": {
            "text/html": [
              "<div>\n",
              "<style scoped>\n",
              "    .dataframe tbody tr th:only-of-type {\n",
              "        vertical-align: middle;\n",
              "    }\n",
              "\n",
              "    .dataframe tbody tr th {\n",
              "        vertical-align: top;\n",
              "    }\n",
              "\n",
              "    .dataframe thead th {\n",
              "        text-align: right;\n",
              "    }\n",
              "</style>\n",
              "<table border=\"1\" class=\"dataframe\">\n",
              "  <thead>\n",
              "    <tr style=\"text-align: right;\">\n",
              "      <th></th>\n",
              "      <th>X</th>\n",
              "      <th>y</th>\n",
              "    </tr>\n",
              "  </thead>\n",
              "  <tbody>\n",
              "    <tr>\n",
              "      <th>count</th>\n",
              "      <td>7.111500e+04</td>\n",
              "      <td>71115.000000</td>\n",
              "    </tr>\n",
              "    <tr>\n",
              "      <th>mean</th>\n",
              "      <td>4.998766e+06</td>\n",
              "      <td>0.406785</td>\n",
              "    </tr>\n",
              "    <tr>\n",
              "      <th>std</th>\n",
              "      <td>2.882618e+06</td>\n",
              "      <td>0.244039</td>\n",
              "    </tr>\n",
              "    <tr>\n",
              "      <th>min</th>\n",
              "      <td>2.550000e+02</td>\n",
              "      <td>0.000009</td>\n",
              "    </tr>\n",
              "    <tr>\n",
              "      <th>25%</th>\n",
              "      <td>2.496521e+06</td>\n",
              "      <td>0.192746</td>\n",
              "    </tr>\n",
              "    <tr>\n",
              "      <th>50%</th>\n",
              "      <td>5.010144e+06</td>\n",
              "      <td>0.403410</td>\n",
              "    </tr>\n",
              "    <tr>\n",
              "      <th>75%</th>\n",
              "      <td>7.481742e+06</td>\n",
              "      <td>0.616155</td>\n",
              "    </tr>\n",
              "    <tr>\n",
              "      <th>max</th>\n",
              "      <td>9.999882e+06</td>\n",
              "      <td>0.983776</td>\n",
              "    </tr>\n",
              "  </tbody>\n",
              "</table>\n",
              "</div>"
            ],
            "text/plain": [
              "                  X             y\n",
              "count  7.111500e+04  71115.000000\n",
              "mean   4.998766e+06      0.406785\n",
              "std    2.882618e+06      0.244039\n",
              "min    2.550000e+02      0.000009\n",
              "25%    2.496521e+06      0.192746\n",
              "50%    5.010144e+06      0.403410\n",
              "75%    7.481742e+06      0.616155\n",
              "max    9.999882e+06      0.983776"
            ]
          },
          "metadata": {},
          "execution_count": 7
        }
      ]
    },
    {
      "cell_type": "code",
      "metadata": {
        "id": "8xUMWeVE7ja0"
      },
      "source": [
        "#Remove những datapoint quá nhỏ\n",
        "train_set = train_set[train_set.y>0.4]"
      ],
      "execution_count": null,
      "outputs": []
    },
    {
      "cell_type": "code",
      "metadata": {
        "colab": {
          "base_uri": "https://localhost:8080/",
          "height": 300
        },
        "id": "xQRQc5mr75Gb",
        "outputId": "bf511bc6-640b-4f7f-8bb1-a82a88d9e6a9"
      },
      "source": [
        "train_set.describe()"
      ],
      "execution_count": null,
      "outputs": [
        {
          "output_type": "execute_result",
          "data": {
            "text/html": [
              "<div>\n",
              "<style scoped>\n",
              "    .dataframe tbody tr th:only-of-type {\n",
              "        vertical-align: middle;\n",
              "    }\n",
              "\n",
              "    .dataframe tbody tr th {\n",
              "        vertical-align: top;\n",
              "    }\n",
              "\n",
              "    .dataframe thead th {\n",
              "        text-align: right;\n",
              "    }\n",
              "</style>\n",
              "<table border=\"1\" class=\"dataframe\">\n",
              "  <thead>\n",
              "    <tr style=\"text-align: right;\">\n",
              "      <th></th>\n",
              "      <th>X</th>\n",
              "      <th>y</th>\n",
              "    </tr>\n",
              "  </thead>\n",
              "  <tbody>\n",
              "    <tr>\n",
              "      <th>count</th>\n",
              "      <td>3.585200e+04</td>\n",
              "      <td>35852.000000</td>\n",
              "    </tr>\n",
              "    <tr>\n",
              "      <th>mean</th>\n",
              "      <td>7.472571e+06</td>\n",
              "      <td>0.616449</td>\n",
              "    </tr>\n",
              "    <tr>\n",
              "      <th>std</th>\n",
              "      <td>1.452713e+06</td>\n",
              "      <td>0.127023</td>\n",
              "    </tr>\n",
              "    <tr>\n",
              "      <th>min</th>\n",
              "      <td>4.184349e+06</td>\n",
              "      <td>0.400010</td>\n",
              "    </tr>\n",
              "    <tr>\n",
              "      <th>25%</th>\n",
              "      <td>6.212990e+06</td>\n",
              "      <td>0.506315</td>\n",
              "    </tr>\n",
              "    <tr>\n",
              "      <th>50%</th>\n",
              "      <td>7.459315e+06</td>\n",
              "      <td>0.614102</td>\n",
              "    </tr>\n",
              "    <tr>\n",
              "      <th>75%</th>\n",
              "      <td>8.735773e+06</td>\n",
              "      <td>0.725983</td>\n",
              "    </tr>\n",
              "    <tr>\n",
              "      <th>max</th>\n",
              "      <td>9.999882e+06</td>\n",
              "      <td>0.983776</td>\n",
              "    </tr>\n",
              "  </tbody>\n",
              "</table>\n",
              "</div>"
            ],
            "text/plain": [
              "                  X             y\n",
              "count  3.585200e+04  35852.000000\n",
              "mean   7.472571e+06      0.616449\n",
              "std    1.452713e+06      0.127023\n",
              "min    4.184349e+06      0.400010\n",
              "25%    6.212990e+06      0.506315\n",
              "50%    7.459315e+06      0.614102\n",
              "75%    8.735773e+06      0.725983\n",
              "max    9.999882e+06      0.983776"
            ]
          },
          "metadata": {},
          "execution_count": 9
        }
      ]
    },
    {
      "cell_type": "code",
      "metadata": {
        "colab": {
          "base_uri": "https://localhost:8080/",
          "height": 279
        },
        "id": "Dk18zs87kLSC",
        "outputId": "f4de0e46-7b98-45f1-a67c-8ff45547fd86"
      },
      "source": [
        "#Plotting data train\n",
        "ax = plt.axes()\n",
        "ax.scatter(train_set.X, train_set.y, color = 'blue')\n",
        "ax.set(xlabel = 'Size of data',\n",
        "       ylabel = 'Running time',)\n",
        "plt.show()"
      ],
      "execution_count": null,
      "outputs": [
        {
          "output_type": "display_data",
          "data": {
            "image/png": "[encoded data removed]",
            "text/plain": [
              "<Figure size 432x288 with 1 Axes>"
            ]
          },
          "metadata": {
            "needs_background": "light"
          }
        }
      ]
    },
    {
      "cell_type": "code",
      "metadata": {
        "colab": {
          "base_uri": "https://localhost:8080/",
          "height": 501
        },
        "id": "TBrh6bUBo4B1",
        "outputId": "98248ee8-58d0-42bb-8a0d-7f6b728d665f"
      },
      "source": [
        "train_set.y.hist(bins = 50, figsize = (8,8))"
      ],
      "execution_count": null,
      "outputs": [
        {
          "output_type": "execute_result",
          "data": {
            "text/plain": [
              "<matplotlib.axes._subplots.AxesSubplot at 0x7f58c74fefd0>"
            ]
          },
          "metadata": {},
          "execution_count": 12
        },
        {
          "output_type": "display_data",
          "data": {
            "image/png": "[encoded data removed]",
            "text/plain": [
              "<Figure size 576x576 with 1 Axes>"
            ]
          },
          "metadata": {
            "needs_background": "light"
          }
        }
      ]
    },
    {
      "cell_type": "markdown",
      "metadata": {
        "id": "8k74ukTCYNGL"
      },
      "source": [
        "**X_test, y_test**\n",
        "\n",
        "**data1**"
      ]
    },
    {
      "cell_type": "code",
      "metadata": {
        "id": "cnF-ZpBlXHmr"
      },
      "source": [
        "#Sử dụng pandas.read_csv để đọc dữ liệu từ file \"test.txt\"\n",
        "test_set = pd.read_csv(\"/content/drive/MyDrive/th1_data/test.txt\", names = [\"X\", \"y\"], header = None)"
      ],
      "execution_count": null,
      "outputs": []
    },
    {
      "cell_type": "code",
      "metadata": {
        "colab": {
          "base_uri": "https://localhost:8080/"
        },
        "id": "0qOXUveJza8t",
        "outputId": "412a5e0c-5398-4740-90c4-f2057b81bb9d"
      },
      "source": [
        "test_set.shape"
      ],
      "execution_count": null,
      "outputs": [
        {
          "output_type": "execute_result",
          "data": {
            "text/plain": [
              "(10590, 2)"
            ]
          },
          "metadata": {},
          "execution_count": 14
        }
      ]
    },
    {
      "cell_type": "code",
      "metadata": {
        "colab": {
          "base_uri": "https://localhost:8080/"
        },
        "id": "2-FVIxgVze1e",
        "outputId": "35badfcc-bebf-42d7-a34b-e5bf1b94dea0"
      },
      "source": [
        "test_set.dtypes"
      ],
      "execution_count": null,
      "outputs": [
        {
          "output_type": "execute_result",
          "data": {
            "text/plain": [
              "X      int64\n",
              "y    float64\n",
              "dtype: object"
            ]
          },
          "metadata": {},
          "execution_count": 15
        }
      ]
    },
    {
      "cell_type": "code",
      "metadata": {
        "id": "SCWagyPTY59N",
        "colab": {
          "base_uri": "https://localhost:8080/",
          "height": 206
        },
        "outputId": "9261cab4-6577-4743-a7c1-624cc085d480"
      },
      "source": [
        "#Xem thử 5 bộ đầu\n",
        "sample_test = test_set.sample(n = 5)\n",
        "sample_test"
      ],
      "execution_count": null,
      "outputs": [
        {
          "output_type": "execute_result",
          "data": {
            "text/html": [
              "<div>\n",
              "<style scoped>\n",
              "    .dataframe tbody tr th:only-of-type {\n",
              "        vertical-align: middle;\n",
              "    }\n",
              "\n",
              "    .dataframe tbody tr th {\n",
              "        vertical-align: top;\n",
              "    }\n",
              "\n",
              "    .dataframe thead th {\n",
              "        text-align: right;\n",
              "    }\n",
              "</style>\n",
              "<table border=\"1\" class=\"dataframe\">\n",
              "  <thead>\n",
              "    <tr style=\"text-align: right;\">\n",
              "      <th></th>\n",
              "      <th>X</th>\n",
              "      <th>y</th>\n",
              "    </tr>\n",
              "  </thead>\n",
              "  <tbody>\n",
              "    <tr>\n",
              "      <th>2204</th>\n",
              "      <td>28193297</td>\n",
              "      <td>2.44362</td>\n",
              "    </tr>\n",
              "    <tr>\n",
              "      <th>6420</th>\n",
              "      <td>39280458</td>\n",
              "      <td>3.64339</td>\n",
              "    </tr>\n",
              "    <tr>\n",
              "      <th>5071</th>\n",
              "      <td>33477683</td>\n",
              "      <td>2.90214</td>\n",
              "    </tr>\n",
              "    <tr>\n",
              "      <th>3074</th>\n",
              "      <td>35602759</td>\n",
              "      <td>3.09485</td>\n",
              "    </tr>\n",
              "    <tr>\n",
              "      <th>3372</th>\n",
              "      <td>26337136</td>\n",
              "      <td>2.27539</td>\n",
              "    </tr>\n",
              "  </tbody>\n",
              "</table>\n",
              "</div>"
            ],
            "text/plain": [
              "             X        y\n",
              "2204  28193297  2.44362\n",
              "6420  39280458  3.64339\n",
              "5071  33477683  2.90214\n",
              "3074  35602759  3.09485\n",
              "3372  26337136  2.27539"
            ]
          },
          "metadata": {},
          "execution_count": 16
        }
      ]
    },
    {
      "cell_type": "code",
      "metadata": {
        "colab": {
          "base_uri": "https://localhost:8080/",
          "height": 300
        },
        "id": "bvmtNcYdYghy",
        "outputId": "5f2a79e3-c3fa-4e30-fb3a-1d75ec7d6a13"
      },
      "source": [
        "#Desrcibe bộ test\n",
        "test_set.describe()"
      ],
      "execution_count": null,
      "outputs": [
        {
          "output_type": "execute_result",
          "data": {
            "text/html": [
              "<div>\n",
              "<style scoped>\n",
              "    .dataframe tbody tr th:only-of-type {\n",
              "        vertical-align: middle;\n",
              "    }\n",
              "\n",
              "    .dataframe tbody tr th {\n",
              "        vertical-align: top;\n",
              "    }\n",
              "\n",
              "    .dataframe thead th {\n",
              "        text-align: right;\n",
              "    }\n",
              "</style>\n",
              "<table border=\"1\" class=\"dataframe\">\n",
              "  <thead>\n",
              "    <tr style=\"text-align: right;\">\n",
              "      <th></th>\n",
              "      <th>X</th>\n",
              "      <th>y</th>\n",
              "    </tr>\n",
              "  </thead>\n",
              "  <tbody>\n",
              "    <tr>\n",
              "      <th>count</th>\n",
              "      <td>1.059000e+04</td>\n",
              "      <td>10590.000000</td>\n",
              "    </tr>\n",
              "    <tr>\n",
              "      <th>mean</th>\n",
              "      <td>2.999277e+07</td>\n",
              "      <td>2.642812</td>\n",
              "    </tr>\n",
              "    <tr>\n",
              "      <th>std</th>\n",
              "      <td>5.759381e+06</td>\n",
              "      <td>0.537305</td>\n",
              "    </tr>\n",
              "    <tr>\n",
              "      <th>min</th>\n",
              "      <td>2.000026e+07</td>\n",
              "      <td>1.669640</td>\n",
              "    </tr>\n",
              "    <tr>\n",
              "      <th>25%</th>\n",
              "      <td>2.503806e+07</td>\n",
              "      <td>2.180550</td>\n",
              "    </tr>\n",
              "    <tr>\n",
              "      <th>50%</th>\n",
              "      <td>2.994436e+07</td>\n",
              "      <td>2.639820</td>\n",
              "    </tr>\n",
              "    <tr>\n",
              "      <th>75%</th>\n",
              "      <td>3.500845e+07</td>\n",
              "      <td>3.100155</td>\n",
              "    </tr>\n",
              "    <tr>\n",
              "      <th>max</th>\n",
              "      <td>3.999734e+07</td>\n",
              "      <td>4.287660</td>\n",
              "    </tr>\n",
              "  </tbody>\n",
              "</table>\n",
              "</div>"
            ],
            "text/plain": [
              "                  X             y\n",
              "count  1.059000e+04  10590.000000\n",
              "mean   2.999277e+07      2.642812\n",
              "std    5.759381e+06      0.537305\n",
              "min    2.000026e+07      1.669640\n",
              "25%    2.503806e+07      2.180550\n",
              "50%    2.994436e+07      2.639820\n",
              "75%    3.500845e+07      3.100155\n",
              "max    3.999734e+07      4.287660"
            ]
          },
          "metadata": {},
          "execution_count": 17
        }
      ]
    },
    {
      "cell_type": "code",
      "metadata": {
        "colab": {
          "base_uri": "https://localhost:8080/",
          "height": 279
        },
        "id": "X1k8N7xBjrCy",
        "outputId": "f7386ec7-685b-478b-e9b3-428830855669"
      },
      "source": [
        "#Plotting data test\n",
        "ax = plt.axes()\n",
        "ax.scatter(test_set.X, test_set.y, color = 'red')\n",
        "ax.set(xlabel = 'Size of data',\n",
        "       ylabel = 'Running time',)\n",
        "plt.show()"
      ],
      "execution_count": null,
      "outputs": [
        {
          "output_type": "display_data",
          "data": {
            "image/png": "[encoded data removed]",
            "text/plain": [
              "<Figure size 432x288 with 1 Axes>"
            ]
          },
          "metadata": {
            "needs_background": "light"
          }
        }
      ]
    },
    {
      "cell_type": "code",
      "metadata": {
        "colab": {
          "base_uri": "https://localhost:8080/",
          "height": 501
        },
        "id": "jsMga9bHz-mb",
        "outputId": "30f090db-1b8f-4c4b-ceb6-792f9232c338"
      },
      "source": [
        "test_set.y.hist(bins = 25, figsize = (8, 8))"
      ],
      "execution_count": null,
      "outputs": [
        {
          "output_type": "execute_result",
          "data": {
            "text/plain": [
              "<matplotlib.axes._subplots.AxesSubplot at 0x7f58c739f850>"
            ]
          },
          "metadata": {},
          "execution_count": 19
        },
        {
          "output_type": "display_data",
          "data": {
            "image/png": "[encoded data removed]",
            "text/plain": [
              "<Figure size 576x576 with 1 Axes>"
            ]
          },
          "metadata": {
            "needs_background": "light"
          }
        }
      ]
    },
    {
      "cell_type": "markdown",
      "metadata": {
        "id": "UfDnlTwT97_-"
      },
      "source": [
        "**data4**"
      ]
    },
    {
      "cell_type": "code",
      "metadata": {
        "id": "qRKNFZqU99oC"
      },
      "source": [
        "test_set_4 = pd.read_csv(\"/content/drive/MyDrive/th1_data/data4.txt\", names = [\"X\", \"y\"], header = None)"
      ],
      "execution_count": null,
      "outputs": []
    },
    {
      "cell_type": "code",
      "metadata": {
        "colab": {
          "base_uri": "https://localhost:8080/",
          "height": 279
        },
        "id": "wDv3j5J9-Ib6",
        "outputId": "75f990d1-f7fe-4c9f-9723-0ef5c5443bb6"
      },
      "source": [
        "#Plotting data test\n",
        "ax = plt.axes()\n",
        "ax.scatter(test_set_4.X, test_set_4.y, color = 'green')\n",
        "ax.set(xlabel = 'Size of data',\n",
        "       ylabel = 'Running time',)\n",
        "plt.show()"
      ],
      "execution_count": null,
      "outputs": [
        {
          "output_type": "display_data",
          "data": {
            "image/png": "[encoded data removed]",
            "text/plain": [
              "<Figure size 432x288 with 1 Axes>"
            ]
          },
          "metadata": {
            "needs_background": "light"
          }
        }
      ]
    },
    {
      "cell_type": "code",
      "metadata": {
        "colab": {
          "base_uri": "https://localhost:8080/",
          "height": 300
        },
        "id": "KjQghnYkALhy",
        "outputId": "5e523575-49bd-4515-8041-32172deed1f4"
      },
      "source": [
        "test_set_4.describe()"
      ],
      "execution_count": null,
      "outputs": [
        {
          "output_type": "execute_result",
          "data": {
            "text/html": [
              "<div>\n",
              "<style scoped>\n",
              "    .dataframe tbody tr th:only-of-type {\n",
              "        vertical-align: middle;\n",
              "    }\n",
              "\n",
              "    .dataframe tbody tr th {\n",
              "        vertical-align: top;\n",
              "    }\n",
              "\n",
              "    .dataframe thead th {\n",
              "        text-align: right;\n",
              "    }\n",
              "</style>\n",
              "<table border=\"1\" class=\"dataframe\">\n",
              "  <thead>\n",
              "    <tr style=\"text-align: right;\">\n",
              "      <th></th>\n",
              "      <th>X</th>\n",
              "      <th>y</th>\n",
              "    </tr>\n",
              "  </thead>\n",
              "  <tbody>\n",
              "    <tr>\n",
              "      <th>count</th>\n",
              "      <td>6.023000e+03</td>\n",
              "      <td>6023.000000</td>\n",
              "    </tr>\n",
              "    <tr>\n",
              "      <th>mean</th>\n",
              "      <td>6.001134e+07</td>\n",
              "      <td>5.510494</td>\n",
              "    </tr>\n",
              "    <tr>\n",
              "      <th>std</th>\n",
              "      <td>5.788140e+06</td>\n",
              "      <td>0.571520</td>\n",
              "    </tr>\n",
              "    <tr>\n",
              "      <th>min</th>\n",
              "      <td>5.000951e+07</td>\n",
              "      <td>4.395220</td>\n",
              "    </tr>\n",
              "    <tr>\n",
              "      <th>25%</th>\n",
              "      <td>5.501938e+07</td>\n",
              "      <td>5.019585</td>\n",
              "    </tr>\n",
              "    <tr>\n",
              "      <th>50%</th>\n",
              "      <td>5.992788e+07</td>\n",
              "      <td>5.495210</td>\n",
              "    </tr>\n",
              "    <tr>\n",
              "      <th>75%</th>\n",
              "      <td>6.506852e+07</td>\n",
              "      <td>6.002910</td>\n",
              "    </tr>\n",
              "    <tr>\n",
              "      <th>max</th>\n",
              "      <td>6.999990e+07</td>\n",
              "      <td>7.615200</td>\n",
              "    </tr>\n",
              "  </tbody>\n",
              "</table>\n",
              "</div>"
            ],
            "text/plain": [
              "                  X            y\n",
              "count  6.023000e+03  6023.000000\n",
              "mean   6.001134e+07     5.510494\n",
              "std    5.788140e+06     0.571520\n",
              "min    5.000951e+07     4.395220\n",
              "25%    5.501938e+07     5.019585\n",
              "50%    5.992788e+07     5.495210\n",
              "75%    6.506852e+07     6.002910\n",
              "max    6.999990e+07     7.615200"
            ]
          },
          "metadata": {},
          "execution_count": 24
        }
      ]
    },
    {
      "cell_type": "code",
      "metadata": {
        "colab": {
          "base_uri": "https://localhost:8080/",
          "height": 279
        },
        "id": "5h_Xddu8uOz6",
        "outputId": "bf4562eb-5eed-44f3-9f13-984cd8486f99"
      },
      "source": [
        "#Plotting train_set và test_set cùng đồ thị, red là train, blue là test data1, green là test data4\n",
        "\n",
        "plt.scatter(train_set.X, train_set.y, color = 'red')\n",
        "plt.scatter(test_set.X, test_set.y, color = 'blue')\n",
        "plt.scatter(test_set_4.X, test_set_4.y, color = 'green')\n",
        "plt.xlabel(\"Size of data\")\n",
        "plt.ylabel(\"Running time\")\n",
        "plt.show()"
      ],
      "execution_count": null,
      "outputs": [
        {
          "output_type": "display_data",
          "data": {
            "image/png": "[encoded data removed]",
            "text/plain": [
              "<Figure size 432x288 with 1 Axes>"
            ]
          },
          "metadata": {
            "needs_background": "light"
          }
        }
      ]
    },
    {
      "cell_type": "code",
      "metadata": {
        "colab": {
          "base_uri": "https://localhost:8080/",
          "height": 501
        },
        "id": "91WeBVxswsvw",
        "outputId": "a3d52dd7-e88f-4e75-f945-f165731a58ec"
      },
      "source": [
        "train_set.y.hist(bins = 25, figsize = (8, 8), color = 'red')\n",
        "test_set.y.hist(bins = 25, figsize = (8, 8), color = 'blue')\n",
        "test_set_4.y.hist(bins = 25, figsize = (8, 8), color = 'green')"
      ],
      "execution_count": null,
      "outputs": [
        {
          "output_type": "execute_result",
          "data": {
            "text/plain": [
              "<matplotlib.axes._subplots.AxesSubplot at 0x7f58c7099090>"
            ]
          },
          "metadata": {},
          "execution_count": 27
        },
        {
          "output_type": "display_data",
          "data": {
            "image/png": "[encoded data removed]",
            "text/plain": [
              "<Figure size 576x576 with 1 Axes>"
            ]
          },
          "metadata": {
            "needs_background": "light"
          }
        }
      ]
    },
    {
      "cell_type": "markdown",
      "metadata": {
        "id": "oA0hVV6BQ6nb"
      },
      "source": [
        "# **MODELING 1 BIẾN** \n"
      ]
    },
    {
      "cell_type": "markdown",
      "metadata": {
        "id": "mwP-NdjxaYoI"
      },
      "source": [
        "# **TRAIN MODEL**"
      ]
    },
    {
      "cell_type": "code",
      "metadata": {
        "id": "xckcbHSCaLjM"
      },
      "source": [
        "#Train model\n",
        "clf = LinearRegression()"
      ],
      "execution_count": null,
      "outputs": []
    },
    {
      "cell_type": "code",
      "metadata": {
        "colab": {
          "base_uri": "https://localhost:8080/"
        },
        "id": "geJBkuJLa1M_",
        "outputId": "701b8030-f1b3-4463-85c5-b0100ce7aca8"
      },
      "source": [
        "X_train = np.asanyarray(train_set[['X']])\n",
        "y_train = np.asanyarray(train_set[['y']])\n",
        "clf.fit(X_train, y_train)\n",
        "\n",
        "# The coefficients\n",
        "print ('Coefficients: ', clf.coef_)\n",
        "print ('Intercept: ', clf.intercept_)"
      ],
      "execution_count": null,
      "outputs": [
        {
          "output_type": "stream",
          "name": "stdout",
          "text": [
            "Coefficients:  [[8.68544766e-08]]\n",
            "Intercept:  [-0.03257747]\n"
          ]
        }
      ]
    },
    {
      "cell_type": "code",
      "metadata": {
        "colab": {
          "base_uri": "https://localhost:8080/",
          "height": 279
        },
        "id": "EpZ-cR4_mW-B",
        "outputId": "54b33155-8ebf-47bf-9fb2-a4a95cad6356"
      },
      "source": [
        "#Plotting fit line on train_set\n",
        "plt.scatter(train_set.X, train_set.y, color = 'blue')\n",
        "plt.plot(X_train, clf.coef_[0][0]*X_train + clf.intercept_[0], '-r')\n",
        "plt.xlabel(\"Size of data\")\n",
        "plt.ylabel(\"Running time\")\n",
        "plt.show()"
      ],
      "execution_count": null,
      "outputs": [
        {
          "output_type": "display_data",
          "data": {
            "image/png": "[encoded data removed]",
            "text/plain": [
              "<Figure size 432x288 with 1 Axes>"
            ]
          },
          "metadata": {
            "needs_background": "light"
          }
        }
      ]
    },
    {
      "cell_type": "markdown",
      "metadata": {
        "id": "z8Y0RvVXdRWY"
      },
      "source": [
        "# **TEST MODEL**"
      ]
    },
    {
      "cell_type": "markdown",
      "metadata": {
        "id": "7yH_4rTuVLlO"
      },
      "source": [
        "**TEST TRÊN TẬP DATA1**"
      ]
    },
    {
      "cell_type": "markdown",
      "metadata": {
        "id": "Wt1SjCfOeNj7"
      },
      "source": [
        "**Tính y_pred từ model vừa train**"
      ]
    },
    {
      "cell_type": "code",
      "metadata": {
        "id": "B5eWMuEHoOmz"
      },
      "source": [
        "X_test = test_set[['X']]\n",
        "y_test = test_set[['y']]"
      ],
      "execution_count": null,
      "outputs": []
    },
    {
      "cell_type": "code",
      "metadata": {
        "colab": {
          "base_uri": "https://localhost:8080/"
        },
        "id": "C8m3E_hldVAh",
        "outputId": "3353f1b7-71e4-4d6f-f334-9530042bfad0"
      },
      "source": [
        "y_pred = clf.predict(X_test)"
      ],
      "execution_count": null,
      "outputs": [
        {
          "output_type": "stream",
          "name": "stderr",
          "text": [
            "/usr/local/lib/python3.7/dist-packages/sklearn/base.py:439: UserWarning: X has feature names, but LinearRegression was fitted without feature names\n",
            "  f\"X has feature names, but {self.__class__.__name__} was fitted without\"\n"
          ]
        }
      ]
    },
    {
      "cell_type": "code",
      "metadata": {
        "colab": {
          "base_uri": "https://localhost:8080/"
        },
        "id": "QF-CwMXAfYeW",
        "outputId": "0b1a55d9-9ab2-43e7-cd86-259a55e851ba"
      },
      "source": [
        "y_pred"
      ],
      "execution_count": null,
      "outputs": [
        {
          "output_type": "execute_result",
          "data": {
            "text/plain": [
              "array([[3.25378851],\n",
              "       [3.21536704],\n",
              "       [3.14723674],\n",
              "       ...,\n",
              "       [2.87881264],\n",
              "       [1.8124951 ],\n",
              "       [1.82441327]])"
            ]
          },
          "metadata": {},
          "execution_count": 40
        }
      ]
    },
    {
      "cell_type": "code",
      "metadata": {
        "colab": {
          "base_uri": "https://localhost:8080/",
          "height": 424
        },
        "id": "mmaEgZ-ZfntX",
        "outputId": "fb9ee7df-1686-4c84-91de-529ee7664492"
      },
      "source": [
        "y_test"
      ],
      "execution_count": null,
      "outputs": [
        {
          "output_type": "execute_result",
          "data": {
            "text/html": [
              "<div>\n",
              "<style scoped>\n",
              "    .dataframe tbody tr th:only-of-type {\n",
              "        vertical-align: middle;\n",
              "    }\n",
              "\n",
              "    .dataframe tbody tr th {\n",
              "        vertical-align: top;\n",
              "    }\n",
              "\n",
              "    .dataframe thead th {\n",
              "        text-align: right;\n",
              "    }\n",
              "</style>\n",
              "<table border=\"1\" class=\"dataframe\">\n",
              "  <thead>\n",
              "    <tr style=\"text-align: right;\">\n",
              "      <th></th>\n",
              "      <th>y</th>\n",
              "    </tr>\n",
              "  </thead>\n",
              "  <tbody>\n",
              "    <tr>\n",
              "      <th>0</th>\n",
              "      <td>4.12166</td>\n",
              "    </tr>\n",
              "    <tr>\n",
              "      <th>1</th>\n",
              "      <td>3.92089</td>\n",
              "    </tr>\n",
              "    <tr>\n",
              "      <th>2</th>\n",
              "      <td>3.21540</td>\n",
              "    </tr>\n",
              "    <tr>\n",
              "      <th>3</th>\n",
              "      <td>2.54506</td>\n",
              "    </tr>\n",
              "    <tr>\n",
              "      <th>4</th>\n",
              "      <td>2.21831</td>\n",
              "    </tr>\n",
              "    <tr>\n",
              "      <th>...</th>\n",
              "      <td>...</td>\n",
              "    </tr>\n",
              "    <tr>\n",
              "      <th>10585</th>\n",
              "      <td>2.35117</td>\n",
              "    </tr>\n",
              "    <tr>\n",
              "      <th>10586</th>\n",
              "      <td>1.79155</td>\n",
              "    </tr>\n",
              "    <tr>\n",
              "      <th>10587</th>\n",
              "      <td>2.90918</td>\n",
              "    </tr>\n",
              "    <tr>\n",
              "      <th>10588</th>\n",
              "      <td>1.80292</td>\n",
              "    </tr>\n",
              "    <tr>\n",
              "      <th>10589</th>\n",
              "      <td>1.82795</td>\n",
              "    </tr>\n",
              "  </tbody>\n",
              "</table>\n",
              "<p>10590 rows × 1 columns</p>\n",
              "</div>"
            ],
            "text/plain": [
              "             y\n",
              "0      4.12166\n",
              "1      3.92089\n",
              "2      3.21540\n",
              "3      2.54506\n",
              "4      2.21831\n",
              "...        ...\n",
              "10585  2.35117\n",
              "10586  1.79155\n",
              "10587  2.90918\n",
              "10588  1.80292\n",
              "10589  1.82795\n",
              "\n",
              "[10590 rows x 1 columns]"
            ]
          },
          "metadata": {},
          "execution_count": 41
        }
      ]
    },
    {
      "cell_type": "code",
      "metadata": {
        "colab": {
          "base_uri": "https://localhost:8080/",
          "height": 424
        },
        "id": "hFjT53Fwo0qr",
        "outputId": "caa6d5c6-c231-4404-9eb9-0c18e20d1acb"
      },
      "source": [
        "#Lập bảng so sánh y_pred và y_test\n",
        "y_pred1 = pd.DataFrame(y_pred, columns = ['y_pred'])\n",
        "y_test1 = y_test.rename(columns = {'y':'y_test'})\n",
        "ynew = pd.concat([y_test1, y_pred1], axis=1)\n",
        "ynew"
      ],
      "execution_count": null,
      "outputs": [
        {
          "output_type": "execute_result",
          "data": {
            "text/html": [
              "<div>\n",
              "<style scoped>\n",
              "    .dataframe tbody tr th:only-of-type {\n",
              "        vertical-align: middle;\n",
              "    }\n",
              "\n",
              "    .dataframe tbody tr th {\n",
              "        vertical-align: top;\n",
              "    }\n",
              "\n",
              "    .dataframe thead th {\n",
              "        text-align: right;\n",
              "    }\n",
              "</style>\n",
              "<table border=\"1\" class=\"dataframe\">\n",
              "  <thead>\n",
              "    <tr style=\"text-align: right;\">\n",
              "      <th></th>\n",
              "      <th>y_test</th>\n",
              "      <th>y_pred</th>\n",
              "    </tr>\n",
              "  </thead>\n",
              "  <tbody>\n",
              "    <tr>\n",
              "      <th>0</th>\n",
              "      <td>4.12166</td>\n",
              "      <td>3.253789</td>\n",
              "    </tr>\n",
              "    <tr>\n",
              "      <th>1</th>\n",
              "      <td>3.92089</td>\n",
              "      <td>3.215367</td>\n",
              "    </tr>\n",
              "    <tr>\n",
              "      <th>2</th>\n",
              "      <td>3.21540</td>\n",
              "      <td>3.147237</td>\n",
              "    </tr>\n",
              "    <tr>\n",
              "      <th>3</th>\n",
              "      <td>2.54506</td>\n",
              "      <td>2.534463</td>\n",
              "    </tr>\n",
              "    <tr>\n",
              "      <th>4</th>\n",
              "      <td>2.21831</td>\n",
              "      <td>2.219404</td>\n",
              "    </tr>\n",
              "    <tr>\n",
              "      <th>...</th>\n",
              "      <td>...</td>\n",
              "      <td>...</td>\n",
              "    </tr>\n",
              "    <tr>\n",
              "      <th>10585</th>\n",
              "      <td>2.35117</td>\n",
              "      <td>2.301419</td>\n",
              "    </tr>\n",
              "    <tr>\n",
              "      <th>10586</th>\n",
              "      <td>1.79155</td>\n",
              "      <td>1.769984</td>\n",
              "    </tr>\n",
              "    <tr>\n",
              "      <th>10587</th>\n",
              "      <td>2.90918</td>\n",
              "      <td>2.878813</td>\n",
              "    </tr>\n",
              "    <tr>\n",
              "      <th>10588</th>\n",
              "      <td>1.80292</td>\n",
              "      <td>1.812495</td>\n",
              "    </tr>\n",
              "    <tr>\n",
              "      <th>10589</th>\n",
              "      <td>1.82795</td>\n",
              "      <td>1.824413</td>\n",
              "    </tr>\n",
              "  </tbody>\n",
              "</table>\n",
              "<p>10590 rows × 2 columns</p>\n",
              "</div>"
            ],
            "text/plain": [
              "        y_test    y_pred\n",
              "0      4.12166  3.253789\n",
              "1      3.92089  3.215367\n",
              "2      3.21540  3.147237\n",
              "3      2.54506  2.534463\n",
              "4      2.21831  2.219404\n",
              "...        ...       ...\n",
              "10585  2.35117  2.301419\n",
              "10586  1.79155  1.769984\n",
              "10587  2.90918  2.878813\n",
              "10588  1.80292  1.812495\n",
              "10589  1.82795  1.824413\n",
              "\n",
              "[10590 rows x 2 columns]"
            ]
          },
          "metadata": {},
          "execution_count": 42
        }
      ]
    },
    {
      "cell_type": "code",
      "metadata": {
        "colab": {
          "base_uri": "https://localhost:8080/",
          "height": 279
        },
        "id": "5xTCkdUnr2RV",
        "outputId": "c2b8593b-e6e1-4f90-c7b4-05f687e32f08"
      },
      "source": [
        "#Plotting fit line on test_set \n",
        "plt.scatter(test_set.X, test_set.y, color = 'blue')\n",
        "plt.plot(X_test, clf.coef_[0][0]*X_test + clf.intercept_[0], '-r')\n",
        "plt.xlabel(\"Size of data\")\n",
        "plt.ylabel(\"Running time\")\n",
        "plt.show()"
      ],
      "execution_count": null,
      "outputs": [
        {
          "output_type": "display_data",
          "data": {
            "image/png": "[encoded data removed]",
            "text/plain": [
              "<Figure size 432x288 with 1 Axes>"
            ]
          },
          "metadata": {
            "needs_background": "light"
          }
        }
      ]
    },
    {
      "cell_type": "markdown",
      "metadata": {
        "id": "edUDk39eeXu_"
      },
      "source": [
        "**Đánh giá bằng điểm MSE, R2, MAE**"
      ]
    },
    {
      "cell_type": "code",
      "metadata": {
        "colab": {
          "base_uri": "https://localhost:8080/"
        },
        "id": "brVJcaH-eWYP",
        "outputId": "2dc045a0-f033-4232-a26f-4557228b198d"
      },
      "source": [
        "print('MSE:', round(MSE(y_test, y_pred), 6))\n",
        "print('MAE:', round(MAE(y_test, y_pred), 6))\n",
        "print('R2:', round(R2(y_test, y_pred), 6))"
      ],
      "execution_count": null,
      "outputs": [
        {
          "output_type": "stream",
          "name": "stdout",
          "text": [
            "MSE: 0.009514\n",
            "MAE: 0.07385\n",
            "R2: 0.967043\n"
          ]
        }
      ]
    },
    {
      "cell_type": "markdown",
      "metadata": {
        "id": "__kRs4RlrKSc"
      },
      "source": [
        "**Đánh giá:**\n",
        "- Điểm R2 khá tốt.\n",
        "- Điểm MSE và MAE khá thấp, bởi vì giá trị y ban đầu đều khá nhỏ.\n",
        "- Dựa trên kết quả từ bảng so sánh y_test, y_pred và khi vẽ fit line lên bộ test, có thể thấy model có góc tăng khá thấp so với bộ test, nên với các giá trị x càng lớn, y_pred và y_test càng lệch.\n",
        "- Nguyên nhân có thể là do có sự khác biệt khá rõ ràng giữa tập train và tập test, ví dụ như giá trị X, y của tập train từ xấp xỉ [0-1] còn tập test xấp xỉ ,[2-4] (dễ thấy từ kết quả desribe và plotting hai tập dữ liệu). Cách khắc phục có thể là nên tăng tính đa dạng, khách quan cho tập train hơn so với bộ ban đầu, trong bước xử lý dữ liệu nhóm đã loại bỏ bớt các datapoint quá nhỏ."
      ]
    },
    {
      "cell_type": "markdown",
      "metadata": {
        "id": "uzlv3qNbV9np"
      },
      "source": [
        "**TEST TRÊN TẬP DATA 4**"
      ]
    },
    {
      "cell_type": "code",
      "metadata": {
        "id": "mDjPwxcoWAQ8"
      },
      "source": [
        "#Tạo tập test data4\n",
        "X_test_4 = test_set_4[['X']]\n",
        "y_test_4 = test_set_4[['y']]"
      ],
      "execution_count": null,
      "outputs": []
    },
    {
      "cell_type": "code",
      "metadata": {
        "colab": {
          "base_uri": "https://localhost:8080/"
        },
        "id": "FlumOXGXWLUf",
        "outputId": "c39b9c75-4570-47f8-c3e9-db2d3674caed"
      },
      "source": [
        "#Predict y_pred_4\n",
        "y_pred_4 = clf.predict(X_test_4)"
      ],
      "execution_count": null,
      "outputs": [
        {
          "output_type": "stream",
          "name": "stderr",
          "text": [
            "/usr/local/lib/python3.7/dist-packages/sklearn/base.py:439: UserWarning: X has feature names, but LinearRegression was fitted without feature names\n",
            "  f\"X has feature names, but {self.__class__.__name__} was fitted without\"\n"
          ]
        }
      ]
    },
    {
      "cell_type": "code",
      "metadata": {
        "colab": {
          "base_uri": "https://localhost:8080/",
          "height": 424
        },
        "id": "qHMeX6h5WSCj",
        "outputId": "90c72769-4d6b-4357-9e00-34a337cdfee4"
      },
      "source": [
        "#Lập bảng so sánh y_test_4 và y_pred_4\n",
        "\n",
        "y_pred4 = pd.DataFrame(y_pred_4, columns = ['y_pred_4'])\n",
        "y_test4 = y_test_4.rename(columns = {'y':'y_test_4'})\n",
        "ynew = pd.concat([y_test4, y_pred4], axis=1)\n",
        "ynew"
      ],
      "execution_count": null,
      "outputs": [
        {
          "output_type": "execute_result",
          "data": {
            "text/html": [
              "<div>\n",
              "<style scoped>\n",
              "    .dataframe tbody tr th:only-of-type {\n",
              "        vertical-align: middle;\n",
              "    }\n",
              "\n",
              "    .dataframe tbody tr th {\n",
              "        vertical-align: top;\n",
              "    }\n",
              "\n",
              "    .dataframe thead th {\n",
              "        text-align: right;\n",
              "    }\n",
              "</style>\n",
              "<table border=\"1\" class=\"dataframe\">\n",
              "  <thead>\n",
              "    <tr style=\"text-align: right;\">\n",
              "      <th></th>\n",
              "      <th>y_test_4</th>\n",
              "      <th>y_pred_4</th>\n",
              "    </tr>\n",
              "  </thead>\n",
              "  <tbody>\n",
              "    <tr>\n",
              "      <th>0</th>\n",
              "      <td>5.51836</td>\n",
              "      <td>4.322485</td>\n",
              "    </tr>\n",
              "    <tr>\n",
              "      <th>1</th>\n",
              "      <td>7.18304</td>\n",
              "      <td>5.633160</td>\n",
              "    </tr>\n",
              "    <tr>\n",
              "      <th>2</th>\n",
              "      <td>6.94395</td>\n",
              "      <td>5.846058</td>\n",
              "    </tr>\n",
              "    <tr>\n",
              "      <th>3</th>\n",
              "      <td>5.48383</td>\n",
              "      <td>5.161186</td>\n",
              "    </tr>\n",
              "    <tr>\n",
              "      <th>4</th>\n",
              "      <td>5.65503</td>\n",
              "      <td>5.378206</td>\n",
              "    </tr>\n",
              "    <tr>\n",
              "      <th>...</th>\n",
              "      <td>...</td>\n",
              "      <td>...</td>\n",
              "    </tr>\n",
              "    <tr>\n",
              "      <th>6018</th>\n",
              "      <td>4.95203</td>\n",
              "      <td>4.663027</td>\n",
              "    </tr>\n",
              "    <tr>\n",
              "      <th>6019</th>\n",
              "      <td>6.28587</td>\n",
              "      <td>5.832682</td>\n",
              "    </tr>\n",
              "    <tr>\n",
              "      <th>6020</th>\n",
              "      <td>5.57836</td>\n",
              "      <td>5.245686</td>\n",
              "    </tr>\n",
              "    <tr>\n",
              "      <th>6021</th>\n",
              "      <td>5.78302</td>\n",
              "      <td>5.405166</td>\n",
              "    </tr>\n",
              "    <tr>\n",
              "      <th>6022</th>\n",
              "      <td>4.61823</td>\n",
              "      <td>4.387344</td>\n",
              "    </tr>\n",
              "  </tbody>\n",
              "</table>\n",
              "<p>6023 rows × 2 columns</p>\n",
              "</div>"
            ],
            "text/plain": [
              "      y_test_4  y_pred_4\n",
              "0      5.51836  4.322485\n",
              "1      7.18304  5.633160\n",
              "2      6.94395  5.846058\n",
              "3      5.48383  5.161186\n",
              "4      5.65503  5.378206\n",
              "...        ...       ...\n",
              "6018   4.95203  4.663027\n",
              "6019   6.28587  5.832682\n",
              "6020   5.57836  5.245686\n",
              "6021   5.78302  5.405166\n",
              "6022   4.61823  4.387344\n",
              "\n",
              "[6023 rows x 2 columns]"
            ]
          },
          "metadata": {},
          "execution_count": 48
        }
      ]
    },
    {
      "cell_type": "markdown",
      "metadata": {
        "id": "Qi68UfdQXW7Z"
      },
      "source": [
        "**Đánh giá bằng MSE, MAE, R2**"
      ]
    },
    {
      "cell_type": "code",
      "metadata": {
        "colab": {
          "base_uri": "https://localhost:8080/"
        },
        "id": "EOrI-yEyXbAc",
        "outputId": "4a7ec215-47ad-4e7e-8c92-a8a19a25cd29"
      },
      "source": [
        "print('MSE:', round(MSE(y_test_4, y_pred_4), 6))\n",
        "print('MAE:', round(MAE(y_test_4, y_pred_4), 6))\n",
        "print('R2:', round(R2(y_test_4, y_pred_4), 6))"
      ],
      "execution_count": null,
      "outputs": [
        {
          "output_type": "stream",
          "name": "stdout",
          "text": [
            "MSE: 0.126943\n",
            "MAE: 0.330818\n",
            "R2: 0.611299\n"
          ]
        }
      ]
    },
    {
      "cell_type": "markdown",
      "metadata": {
        "id": "SRQCwEFBX00V"
      },
      "source": [
        "**Đánh giá:**\n",
        "\n",
        "- Các điểm đánh giá tệ đi khá nhiều.\n",
        "- X càng tăng, y càng chênh lệch nhiều.\n",
        "=> Linear regression 1 biến không thực sự ổn trong trường hợp này."
      ]
    },
    {
      "cell_type": "markdown",
      "metadata": {
        "id": "cULny7jr-7RH"
      },
      "source": [
        "# **POLY**"
      ]
    },
    {
      "cell_type": "markdown",
      "metadata": {
        "id": "TDMo7aHvYZ_B"
      },
      "source": [
        "**Sinh các feature mới từ x ban đầu**"
      ]
    },
    {
      "cell_type": "code",
      "metadata": {
        "id": "t_-lbyaGYXRa"
      },
      "source": [
        "#Tạo ma trận mới có với cột đầu là giá trị X train gốc\n",
        "train_set_new = train_set.copy()"
      ],
      "execution_count": null,
      "outputs": []
    },
    {
      "cell_type": "code",
      "metadata": {
        "colab": {
          "base_uri": "https://localhost:8080/",
          "height": 424
        },
        "id": "DqPXR2p2c-w0",
        "outputId": "cffc0482-c061-4e5c-c2a9-5611b151773a"
      },
      "source": [
        "train_set"
      ],
      "execution_count": null,
      "outputs": [
        {
          "output_type": "execute_result",
          "data": {
            "text/html": [
              "<div>\n",
              "<style scoped>\n",
              "    .dataframe tbody tr th:only-of-type {\n",
              "        vertical-align: middle;\n",
              "    }\n",
              "\n",
              "    .dataframe tbody tr th {\n",
              "        vertical-align: top;\n",
              "    }\n",
              "\n",
              "    .dataframe thead th {\n",
              "        text-align: right;\n",
              "    }\n",
              "</style>\n",
              "<table border=\"1\" class=\"dataframe\">\n",
              "  <thead>\n",
              "    <tr style=\"text-align: right;\">\n",
              "      <th></th>\n",
              "      <th>X</th>\n",
              "      <th>y</th>\n",
              "    </tr>\n",
              "  </thead>\n",
              "  <tbody>\n",
              "    <tr>\n",
              "      <th>0</th>\n",
              "      <td>6083695</td>\n",
              "      <td>0.521842</td>\n",
              "    </tr>\n",
              "    <tr>\n",
              "      <th>1</th>\n",
              "      <td>1954367</td>\n",
              "      <td>0.152648</td>\n",
              "    </tr>\n",
              "    <tr>\n",
              "      <th>2</th>\n",
              "      <td>3734185</td>\n",
              "      <td>0.298548</td>\n",
              "    </tr>\n",
              "    <tr>\n",
              "      <th>3</th>\n",
              "      <td>5839301</td>\n",
              "      <td>0.460480</td>\n",
              "    </tr>\n",
              "    <tr>\n",
              "      <th>4</th>\n",
              "      <td>6343427</td>\n",
              "      <td>0.527977</td>\n",
              "    </tr>\n",
              "    <tr>\n",
              "      <th>...</th>\n",
              "      <td>...</td>\n",
              "      <td>...</td>\n",
              "    </tr>\n",
              "    <tr>\n",
              "      <th>71110</th>\n",
              "      <td>4472112</td>\n",
              "      <td>0.350379</td>\n",
              "    </tr>\n",
              "    <tr>\n",
              "      <th>71111</th>\n",
              "      <td>5471895</td>\n",
              "      <td>0.429955</td>\n",
              "    </tr>\n",
              "    <tr>\n",
              "      <th>71112</th>\n",
              "      <td>9837364</td>\n",
              "      <td>0.801394</td>\n",
              "    </tr>\n",
              "    <tr>\n",
              "      <th>71113</th>\n",
              "      <td>9466593</td>\n",
              "      <td>0.776407</td>\n",
              "    </tr>\n",
              "    <tr>\n",
              "      <th>71114</th>\n",
              "      <td>4080801</td>\n",
              "      <td>0.314468</td>\n",
              "    </tr>\n",
              "  </tbody>\n",
              "</table>\n",
              "<p>71115 rows × 2 columns</p>\n",
              "</div>"
            ],
            "text/plain": [
              "             X         y\n",
              "0      6083695  0.521842\n",
              "1      1954367  0.152648\n",
              "2      3734185  0.298548\n",
              "3      5839301  0.460480\n",
              "4      6343427  0.527977\n",
              "...        ...       ...\n",
              "71110  4472112  0.350379\n",
              "71111  5471895  0.429955\n",
              "71112  9837364  0.801394\n",
              "71113  9466593  0.776407\n",
              "71114  4080801  0.314468\n",
              "\n",
              "[71115 rows x 2 columns]"
            ]
          },
          "metadata": {},
          "execution_count": 158
        }
      ]
    },
    {
      "cell_type": "code",
      "metadata": {
        "id": "kI9rJhNyb3cj"
      },
      "source": [
        "#Khởi sinh các cột feature khác từ việc biến đổi X\n",
        "train_set_new['sqrt(X)'] = train_set_new['X'].apply(math.sqrt)"
      ],
      "execution_count": null,
      "outputs": []
    },
    {
      "cell_type": "code",
      "metadata": {
        "id": "GiUrcvUOhGKA"
      },
      "source": [
        "train_set_new['log(X)'] = train_set_new['X'].apply(math.log)"
      ],
      "execution_count": null,
      "outputs": []
    },
    {
      "cell_type": "code",
      "metadata": {
        "id": "Em59qbMshwXd"
      },
      "source": [
        "train_set_new['Xlog(X)'] = train_set_new['X']*train_set_new['X'].apply(math.log)"
      ],
      "execution_count": null,
      "outputs": []
    },
    {
      "cell_type": "code",
      "metadata": {
        "id": "1COVLVvvidPW"
      },
      "source": [
        "train_set_new['X^2'] = train_set_new['X'].pow(2)"
      ],
      "execution_count": null,
      "outputs": []
    },
    {
      "cell_type": "code",
      "metadata": {
        "colab": {
          "base_uri": "https://localhost:8080/",
          "height": 424
        },
        "id": "TqdO2CGibkz1",
        "outputId": "afbfb506-d0b6-4bf5-9ca3-29159bfa2610"
      },
      "source": [
        "train_set_new.reindex(['log(X)', 'sqrt(X)', 'X', 'Xlog(X)', 'X^2', 'y'], axis=\"columns\")"
      ],
      "execution_count": null,
      "outputs": [
        {
          "output_type": "execute_result",
          "data": {
            "text/html": [
              "<div>\n",
              "<style scoped>\n",
              "    .dataframe tbody tr th:only-of-type {\n",
              "        vertical-align: middle;\n",
              "    }\n",
              "\n",
              "    .dataframe tbody tr th {\n",
              "        vertical-align: top;\n",
              "    }\n",
              "\n",
              "    .dataframe thead th {\n",
              "        text-align: right;\n",
              "    }\n",
              "</style>\n",
              "<table border=\"1\" class=\"dataframe\">\n",
              "  <thead>\n",
              "    <tr style=\"text-align: right;\">\n",
              "      <th></th>\n",
              "      <th>log(X)</th>\n",
              "      <th>sqrt(X)</th>\n",
              "      <th>X</th>\n",
              "      <th>Xlog(X)</th>\n",
              "      <th>X^2</th>\n",
              "      <th>y</th>\n",
              "    </tr>\n",
              "  </thead>\n",
              "  <tbody>\n",
              "    <tr>\n",
              "      <th>0</th>\n",
              "      <td>15.621123</td>\n",
              "      <td>2466.514748</td>\n",
              "      <td>6083695</td>\n",
              "      <td>9.503415e+07</td>\n",
              "      <td>37011344853025</td>\n",
              "      <td>0.521842</td>\n",
              "    </tr>\n",
              "    <tr>\n",
              "      <th>1</th>\n",
              "      <td>14.485577</td>\n",
              "      <td>1397.986767</td>\n",
              "      <td>1954367</td>\n",
              "      <td>2.831013e+07</td>\n",
              "      <td>3819550370689</td>\n",
              "      <td>0.152648</td>\n",
              "    </tr>\n",
              "    <tr>\n",
              "      <th>2</th>\n",
              "      <td>15.133040</td>\n",
              "      <td>1932.403943</td>\n",
              "      <td>3734185</td>\n",
              "      <td>5.650957e+07</td>\n",
              "      <td>13944137614225</td>\n",
              "      <td>0.298548</td>\n",
              "    </tr>\n",
              "    <tr>\n",
              "      <th>3</th>\n",
              "      <td>15.580122</td>\n",
              "      <td>2416.464566</td>\n",
              "      <td>5839301</td>\n",
              "      <td>9.097702e+07</td>\n",
              "      <td>34097436168601</td>\n",
              "      <td>0.460480</td>\n",
              "    </tr>\n",
              "    <tr>\n",
              "      <th>4</th>\n",
              "      <td>15.662930</td>\n",
              "      <td>2518.616088</td>\n",
              "      <td>6343427</td>\n",
              "      <td>9.935665e+07</td>\n",
              "      <td>40239066104329</td>\n",
              "      <td>0.527977</td>\n",
              "    </tr>\n",
              "    <tr>\n",
              "      <th>...</th>\n",
              "      <td>...</td>\n",
              "      <td>...</td>\n",
              "      <td>...</td>\n",
              "      <td>...</td>\n",
              "      <td>...</td>\n",
              "      <td>...</td>\n",
              "    </tr>\n",
              "    <tr>\n",
              "      <th>71110</th>\n",
              "      <td>15.313371</td>\n",
              "      <td>2114.736863</td>\n",
              "      <td>4472112</td>\n",
              "      <td>6.848311e+07</td>\n",
              "      <td>19999785740544</td>\n",
              "      <td>0.350379</td>\n",
              "    </tr>\n",
              "    <tr>\n",
              "      <th>71111</th>\n",
              "      <td>15.515136</td>\n",
              "      <td>2339.208199</td>\n",
              "      <td>5471895</td>\n",
              "      <td>8.489719e+07</td>\n",
              "      <td>29941634891025</td>\n",
              "      <td>0.429955</td>\n",
              "    </tr>\n",
              "    <tr>\n",
              "      <th>71112</th>\n",
              "      <td>16.101698</td>\n",
              "      <td>3136.457237</td>\n",
              "      <td>9837364</td>\n",
              "      <td>1.583983e+08</td>\n",
              "      <td>96773730468496</td>\n",
              "      <td>0.801394</td>\n",
              "    </tr>\n",
              "    <tr>\n",
              "      <th>71113</th>\n",
              "      <td>16.063280</td>\n",
              "      <td>3076.782898</td>\n",
              "      <td>9466593</td>\n",
              "      <td>1.520645e+08</td>\n",
              "      <td>89616383027649</td>\n",
              "      <td>0.776407</td>\n",
              "    </tr>\n",
              "    <tr>\n",
              "      <th>71114</th>\n",
              "      <td>15.221804</td>\n",
              "      <td>2020.099255</td>\n",
              "      <td>4080801</td>\n",
              "      <td>6.211715e+07</td>\n",
              "      <td>16652936801601</td>\n",
              "      <td>0.314468</td>\n",
              "    </tr>\n",
              "  </tbody>\n",
              "</table>\n",
              "<p>71115 rows × 6 columns</p>\n",
              "</div>"
            ],
            "text/plain": [
              "          log(X)      sqrt(X)        X       Xlog(X)             X^2         y\n",
              "0      15.621123  2466.514748  6083695  9.503415e+07  37011344853025  0.521842\n",
              "1      14.485577  1397.986767  1954367  2.831013e+07   3819550370689  0.152648\n",
              "2      15.133040  1932.403943  3734185  5.650957e+07  13944137614225  0.298548\n",
              "3      15.580122  2416.464566  5839301  9.097702e+07  34097436168601  0.460480\n",
              "4      15.662930  2518.616088  6343427  9.935665e+07  40239066104329  0.527977\n",
              "...          ...          ...      ...           ...             ...       ...\n",
              "71110  15.313371  2114.736863  4472112  6.848311e+07  19999785740544  0.350379\n",
              "71111  15.515136  2339.208199  5471895  8.489719e+07  29941634891025  0.429955\n",
              "71112  16.101698  3136.457237  9837364  1.583983e+08  96773730468496  0.801394\n",
              "71113  16.063280  3076.782898  9466593  1.520645e+08  89616383027649  0.776407\n",
              "71114  15.221804  2020.099255  4080801  6.211715e+07  16652936801601  0.314468\n",
              "\n",
              "[71115 rows x 6 columns]"
            ]
          },
          "metadata": {},
          "execution_count": 163
        }
      ]
    },
    {
      "cell_type": "code",
      "metadata": {
        "colab": {
          "base_uri": "https://localhost:8080/",
          "height": 424
        },
        "id": "cC0BE0d0taq6",
        "outputId": "9f058d88-e5b3-483a-f02f-bc8646150ef4"
      },
      "source": [
        "#Tập test data1\n",
        "test_set_new = test_set.copy()\n",
        "#Khởi sinh các cột feature khác từ việc biến đổi X\n",
        "test_set_new['sqrt(X)'] = test_set_new['X'].apply(math.sqrt)\n",
        "test_set_new['log(X)'] = test_set_new['X'].apply(math.log)\n",
        "test_set_new['Xlog(X)'] = test_set_new['X']*test_set_new['X'].apply(math.log)\n",
        "test_set_new['X^2'] = test_set_new['X'].pow(2)\n",
        "test_set_new.reindex(['log(X)', 'sqrt(X)', 'X', 'Xlog(X)', 'X^2', 'y'], axis=\"columns\")"
      ],
      "execution_count": null,
      "outputs": [
        {
          "output_type": "execute_result",
          "data": {
            "text/html": [
              "<div>\n",
              "<style scoped>\n",
              "    .dataframe tbody tr th:only-of-type {\n",
              "        vertical-align: middle;\n",
              "    }\n",
              "\n",
              "    .dataframe tbody tr th {\n",
              "        vertical-align: top;\n",
              "    }\n",
              "\n",
              "    .dataframe thead th {\n",
              "        text-align: right;\n",
              "    }\n",
              "</style>\n",
              "<table border=\"1\" class=\"dataframe\">\n",
              "  <thead>\n",
              "    <tr style=\"text-align: right;\">\n",
              "      <th></th>\n",
              "      <th>log(X)</th>\n",
              "      <th>sqrt(X)</th>\n",
              "      <th>X</th>\n",
              "      <th>Xlog(X)</th>\n",
              "      <th>X^2</th>\n",
              "      <th>y</th>\n",
              "    </tr>\n",
              "  </thead>\n",
              "  <tbody>\n",
              "    <tr>\n",
              "      <th>0</th>\n",
              "      <td>17.448814</td>\n",
              "      <td>6151.228495</td>\n",
              "      <td>37837612</td>\n",
              "      <td>6.602215e+08</td>\n",
              "      <td>1431684881862544</td>\n",
              "      <td>4.12166</td>\n",
              "    </tr>\n",
              "    <tr>\n",
              "      <th>1</th>\n",
              "      <td>17.437054</td>\n",
              "      <td>6115.165247</td>\n",
              "      <td>37395246</td>\n",
              "      <td>6.520629e+08</td>\n",
              "      <td>1398404423400516</td>\n",
              "      <td>3.92089</td>\n",
              "    </tr>\n",
              "    <tr>\n",
              "      <th>2</th>\n",
              "      <td>17.415855</td>\n",
              "      <td>6050.688143</td>\n",
              "      <td>36610827</td>\n",
              "      <td>6.376088e+08</td>\n",
              "      <td>1340352653623929</td>\n",
              "      <td>3.21540</td>\n",
              "    </tr>\n",
              "    <tr>\n",
              "      <th>3</th>\n",
              "      <td>17.201786</td>\n",
              "      <td>5436.510922</td>\n",
              "      <td>29555651</td>\n",
              "      <td>5.084100e+08</td>\n",
              "      <td>873536506033801</td>\n",
              "      <td>2.54506</td>\n",
              "    </tr>\n",
              "    <tr>\n",
              "      <th>4</th>\n",
              "      <td>17.070842</td>\n",
              "      <td>5091.975648</td>\n",
              "      <td>25928216</td>\n",
              "      <td>4.426165e+08</td>\n",
              "      <td>672272384942656</td>\n",
              "      <td>2.21831</td>\n",
              "    </tr>\n",
              "    <tr>\n",
              "      <th>...</th>\n",
              "      <td>...</td>\n",
              "      <td>...</td>\n",
              "      <td>...</td>\n",
              "      <td>...</td>\n",
              "      <td>...</td>\n",
              "      <td>...</td>\n",
              "    </tr>\n",
              "    <tr>\n",
              "      <th>10585</th>\n",
              "      <td>17.106614</td>\n",
              "      <td>5183.868633</td>\n",
              "      <td>26872494</td>\n",
              "      <td>4.596974e+08</td>\n",
              "      <td>722130933780036</td>\n",
              "      <td>2.35117</td>\n",
              "    </tr>\n",
              "    <tr>\n",
              "      <th>10586</th>\n",
              "      <td>16.848240</td>\n",
              "      <td>4555.635082</td>\n",
              "      <td>20753811</td>\n",
              "      <td>3.496652e+08</td>\n",
              "      <td>430720671023721</td>\n",
              "      <td>1.79155</td>\n",
              "    </tr>\n",
              "    <tr>\n",
              "      <th>10587</th>\n",
              "      <td>17.327662</td>\n",
              "      <td>5789.673825</td>\n",
              "      <td>33520323</td>\n",
              "      <td>5.808288e+08</td>\n",
              "      <td>1123612054024329</td>\n",
              "      <td>2.90918</td>\n",
              "    </tr>\n",
              "    <tr>\n",
              "      <th>10588</th>\n",
              "      <td>16.871550</td>\n",
              "      <td>4609.041549</td>\n",
              "      <td>21243264</td>\n",
              "      <td>3.584068e+08</td>\n",
              "      <td>451276265373696</td>\n",
              "      <td>1.80292</td>\n",
              "    </tr>\n",
              "    <tr>\n",
              "      <th>10589</th>\n",
              "      <td>16.877989</td>\n",
              "      <td>4623.903546</td>\n",
              "      <td>21380484</td>\n",
              "      <td>3.608596e+08</td>\n",
              "      <td>457125096074256</td>\n",
              "      <td>1.82795</td>\n",
              "    </tr>\n",
              "  </tbody>\n",
              "</table>\n",
              "<p>10590 rows × 6 columns</p>\n",
              "</div>"
            ],
            "text/plain": [
              "          log(X)      sqrt(X)  ...               X^2        y\n",
              "0      17.448814  6151.228495  ...  1431684881862544  4.12166\n",
              "1      17.437054  6115.165247  ...  1398404423400516  3.92089\n",
              "2      17.415855  6050.688143  ...  1340352653623929  3.21540\n",
              "3      17.201786  5436.510922  ...   873536506033801  2.54506\n",
              "4      17.070842  5091.975648  ...   672272384942656  2.21831\n",
              "...          ...          ...  ...               ...      ...\n",
              "10585  17.106614  5183.868633  ...   722130933780036  2.35117\n",
              "10586  16.848240  4555.635082  ...   430720671023721  1.79155\n",
              "10587  17.327662  5789.673825  ...  1123612054024329  2.90918\n",
              "10588  16.871550  4609.041549  ...   451276265373696  1.80292\n",
              "10589  16.877989  4623.903546  ...   457125096074256  1.82795\n",
              "\n",
              "[10590 rows x 6 columns]"
            ]
          },
          "metadata": {},
          "execution_count": 164
        }
      ]
    },
    {
      "cell_type": "code",
      "metadata": {
        "colab": {
          "base_uri": "https://localhost:8080/",
          "height": 424
        },
        "id": "vVUNaZ93uABw",
        "outputId": "4a96ecfb-2684-4106-d953-9b51e1deb24d"
      },
      "source": [
        "#Tập test data4\n",
        "\n",
        "test_set_4_new = test_set_4.copy()\n",
        "#Khởi sinh các cột feature khác từ việc biến đổi X\n",
        "test_set_4_new['sqrt(X)'] = test_set_4_new['X'].apply(math.sqrt)\n",
        "test_set_4_new['log(X)'] = test_set_4_new['X'].apply(math.log)\n",
        "test_set_4_new['Xlog(X)'] = test_set_4_new['X']*test_set_4_new['X'].apply(math.log)\n",
        "test_set_4_new['X^2'] = test_set_4_new['X'].pow(2)\n",
        "test_set_4_new.reindex(['log(X)', 'sqrt(X)', 'X', 'Xlog(X)', 'X^2', 'y'], axis=\"columns\")"
      ],
      "execution_count": null,
      "outputs": [
        {
          "output_type": "execute_result",
          "data": {
            "text/html": [
              "<div>\n",
              "<style scoped>\n",
              "    .dataframe tbody tr th:only-of-type {\n",
              "        vertical-align: middle;\n",
              "    }\n",
              "\n",
              "    .dataframe tbody tr th {\n",
              "        vertical-align: top;\n",
              "    }\n",
              "\n",
              "    .dataframe thead th {\n",
              "        text-align: right;\n",
              "    }\n",
              "</style>\n",
              "<table border=\"1\" class=\"dataframe\">\n",
              "  <thead>\n",
              "    <tr style=\"text-align: right;\">\n",
              "      <th></th>\n",
              "      <th>log(X)</th>\n",
              "      <th>sqrt(X)</th>\n",
              "      <th>X</th>\n",
              "      <th>Xlog(X)</th>\n",
              "      <th>X^2</th>\n",
              "      <th>y</th>\n",
              "    </tr>\n",
              "  </thead>\n",
              "  <tbody>\n",
              "    <tr>\n",
              "      <th>0</th>\n",
              "      <td>17.730371</td>\n",
              "      <td>7081.105634</td>\n",
              "      <td>50142057</td>\n",
              "      <td>8.890373e+08</td>\n",
              "      <td>2514225880191249</td>\n",
              "      <td>5.51836</td>\n",
              "    </tr>\n",
              "    <tr>\n",
              "      <th>1</th>\n",
              "      <td>17.993469</td>\n",
              "      <td>8076.665834</td>\n",
              "      <td>65232531</td>\n",
              "      <td>1.173760e+09</td>\n",
              "      <td>4255283100665961</td>\n",
              "      <td>7.18304</td>\n",
              "    </tr>\n",
              "    <tr>\n",
              "      <th>2</th>\n",
              "      <td>18.030357</td>\n",
              "      <td>8227.012884</td>\n",
              "      <td>67683741</td>\n",
              "      <td>1.220362e+09</td>\n",
              "      <td>4581088795755081</td>\n",
              "      <td>6.94395</td>\n",
              "    </tr>\n",
              "    <tr>\n",
              "      <th>3</th>\n",
              "      <td>17.906490</td>\n",
              "      <td>7732.945687</td>\n",
              "      <td>59798449</td>\n",
              "      <td>1.070780e+09</td>\n",
              "      <td>3575854502805601</td>\n",
              "      <td>5.48383</td>\n",
              "    </tr>\n",
              "    <tr>\n",
              "      <th>4</th>\n",
              "      <td>17.947426</td>\n",
              "      <td>7892.852399</td>\n",
              "      <td>62297119</td>\n",
              "      <td>1.118073e+09</td>\n",
              "      <td>3880931035700161</td>\n",
              "      <td>5.65503</td>\n",
              "    </tr>\n",
              "    <tr>\n",
              "      <th>...</th>\n",
              "      <td>...</td>\n",
              "      <td>...</td>\n",
              "      <td>...</td>\n",
              "      <td>...</td>\n",
              "      <td>...</td>\n",
              "      <td>...</td>\n",
              "    </tr>\n",
              "    <tr>\n",
              "      <th>6018</th>\n",
              "      <td>17.805659</td>\n",
              "      <td>7352.747446</td>\n",
              "      <td>54062895</td>\n",
              "      <td>9.626255e+08</td>\n",
              "      <td>2922796615781025</td>\n",
              "      <td>4.95203</td>\n",
              "    </tr>\n",
              "    <tr>\n",
              "      <th>6019</th>\n",
              "      <td>18.028078</td>\n",
              "      <td>8217.647291</td>\n",
              "      <td>67529727</td>\n",
              "      <td>1.217431e+09</td>\n",
              "      <td>4560264028694529</td>\n",
              "      <td>6.28587</td>\n",
              "    </tr>\n",
              "    <tr>\n",
              "      <th>6020</th>\n",
              "      <td>17.922629</td>\n",
              "      <td>7795.598117</td>\n",
              "      <td>60771350</td>\n",
              "      <td>1.089182e+09</td>\n",
              "      <td>3693156980822500</td>\n",
              "      <td>5.57836</td>\n",
              "    </tr>\n",
              "    <tr>\n",
              "      <th>6021</th>\n",
              "      <td>17.952396</td>\n",
              "      <td>7912.491769</td>\n",
              "      <td>62607526</td>\n",
              "      <td>1.123955e+09</td>\n",
              "      <td>3919702311840676</td>\n",
              "      <td>5.78302</td>\n",
              "    </tr>\n",
              "    <tr>\n",
              "      <th>6022</th>\n",
              "      <td>17.745154</td>\n",
              "      <td>7133.640095</td>\n",
              "      <td>50888821</td>\n",
              "      <td>9.030300e+08</td>\n",
              "      <td>2589672102770041</td>\n",
              "      <td>4.61823</td>\n",
              "    </tr>\n",
              "  </tbody>\n",
              "</table>\n",
              "<p>6023 rows × 6 columns</p>\n",
              "</div>"
            ],
            "text/plain": [
              "         log(X)      sqrt(X)         X       Xlog(X)               X^2        y\n",
              "0     17.730371  7081.105634  50142057  8.890373e+08  2514225880191249  5.51836\n",
              "1     17.993469  8076.665834  65232531  1.173760e+09  4255283100665961  7.18304\n",
              "2     18.030357  8227.012884  67683741  1.220362e+09  4581088795755081  6.94395\n",
              "3     17.906490  7732.945687  59798449  1.070780e+09  3575854502805601  5.48383\n",
              "4     17.947426  7892.852399  62297119  1.118073e+09  3880931035700161  5.65503\n",
              "...         ...          ...       ...           ...               ...      ...\n",
              "6018  17.805659  7352.747446  54062895  9.626255e+08  2922796615781025  4.95203\n",
              "6019  18.028078  8217.647291  67529727  1.217431e+09  4560264028694529  6.28587\n",
              "6020  17.922629  7795.598117  60771350  1.089182e+09  3693156980822500  5.57836\n",
              "6021  17.952396  7912.491769  62607526  1.123955e+09  3919702311840676  5.78302\n",
              "6022  17.745154  7133.640095  50888821  9.030300e+08  2589672102770041  4.61823\n",
              "\n",
              "[6023 rows x 6 columns]"
            ]
          },
          "metadata": {},
          "execution_count": 165
        }
      ]
    },
    {
      "cell_type": "markdown",
      "metadata": {
        "id": "U0Ykd7UBoPUA"
      },
      "source": [
        "**Preprocessing data**"
      ]
    },
    {
      "cell_type": "code",
      "metadata": {
        "colab": {
          "base_uri": "https://localhost:8080/",
          "height": 353
        },
        "id": "J4QOobTdoUQ0",
        "outputId": "4a24ef02-6bd2-49bd-8f8f-a30e24178c1b"
      },
      "source": [
        "#Check outliers\n",
        "sns.boxplot(train_set_new['y'])"
      ],
      "execution_count": null,
      "outputs": [
        {
          "output_type": "stream",
          "name": "stderr",
          "text": [
            "/usr/local/lib/python3.7/dist-packages/seaborn/_decorators.py:43: FutureWarning: Pass the following variable as a keyword arg: x. From version 0.12, the only valid positional argument will be `data`, and passing other arguments without an explicit keyword will result in an error or misinterpretation.\n",
            "  FutureWarning\n"
          ]
        },
        {
          "output_type": "execute_result",
          "data": {
            "text/plain": [
              "<matplotlib.axes._subplots.AxesSubplot at 0x7f58b6902ad0>"
            ]
          },
          "metadata": {},
          "execution_count": 166
        },
        {
          "output_type": "display_data",
          "data": {
            "image/png": "[encoded data removed]",
            "text/plain": [
              "<Figure size 432x288 with 1 Axes>"
            ]
          },
          "metadata": {
            "needs_background": "light"
          }
        }
      ]
    },
    {
      "cell_type": "code",
      "metadata": {
        "id": "21gTU8w0qaQZ"
      },
      "source": [
        "#Train, test split\n",
        "X_train_ = train_set_new.drop(columns = ['y'])\n",
        "y_train_ = train_set_new['y']\n",
        "\n",
        "X_test_1 = test_set_new.drop(columns = ['y'])\n",
        "y_test_1 = test_set_new['y']\n",
        "\n",
        "X_test_4 = test_set_4_new.drop(columns = ['y'])\n",
        "y_test_4 = test_set_4_new['y']\n"
      ],
      "execution_count": null,
      "outputs": []
    },
    {
      "cell_type": "markdown",
      "metadata": {
        "id": "BnrobAianiYp"
      },
      "source": [
        "**TRAIN MODEL**"
      ]
    },
    {
      "cell_type": "code",
      "metadata": {
        "id": "pJZJQ3rjkNnL"
      },
      "source": [
        "clf_ = LinearRegression()"
      ],
      "execution_count": null,
      "outputs": []
    },
    {
      "cell_type": "code",
      "metadata": {
        "colab": {
          "base_uri": "https://localhost:8080/"
        },
        "id": "0lxl8t8osYDd",
        "outputId": "3e893790-fb4f-404e-8dcb-77100f0b34cf"
      },
      "source": [
        "clf_.fit(X_train_, y_train_)\n",
        "print('Coefficients: ', clf_.coef_)"
      ],
      "execution_count": null,
      "outputs": [
        {
          "output_type": "stream",
          "name": "stdout",
          "text": [
            "Coefficients:  [ 2.15056095e-08 -5.52926062e-06  4.20547173e-04  3.93118611e-09\n",
            "  3.12021527e-17]\n"
          ]
        }
      ]
    },
    {
      "cell_type": "markdown",
      "metadata": {
        "id": "lODmakVks0TC"
      },
      "source": [
        "**TEST MODEL TẬP DATA 1**"
      ]
    },
    {
      "cell_type": "code",
      "metadata": {
        "id": "GZRp0QnLsj9p"
      },
      "source": [
        "#Predict y_pred\n",
        "y_pred_poly_1 = clf_.predict(X_test_1)"
      ],
      "execution_count": null,
      "outputs": []
    },
    {
      "cell_type": "markdown",
      "metadata": {
        "id": "_BISHtkp0-2R"
      },
      "source": [
        "**Đánh giá bằng điểm MSE, MAE, R2**"
      ]
    },
    {
      "cell_type": "code",
      "metadata": {
        "colab": {
          "base_uri": "https://localhost:8080/"
        },
        "id": "-cWNmVlPsugF",
        "outputId": "9483504b-d3bf-4902-f019-3549320d0959"
      },
      "source": [
        "print('MSE:', round(MSE(y_test_1, y_pred_poly_1), 6))\n",
        "print('MAE:', round(MAE(y_test_1, y_pred_poly_1), 6))\n",
        "print('R2:', round(R2(y_test_1, y_pred_poly_1), 6))"
      ],
      "execution_count": null,
      "outputs": [
        {
          "output_type": "stream",
          "name": "stdout",
          "text": [
            "MSE: 0.004882\n",
            "MAE: 0.054672\n",
            "R2: 0.983086\n"
          ]
        }
      ]
    },
    {
      "cell_type": "markdown",
      "metadata": {
        "id": "JpCMlTZBzgSk"
      },
      "source": [
        "**TEST MODEL TẬP DATA 4**"
      ]
    },
    {
      "cell_type": "code",
      "metadata": {
        "id": "b3JSdUuhykQp"
      },
      "source": [
        "#Predict y_pred\n",
        "y_pred_poly_4 = clf_.predict(X_test_4)"
      ],
      "execution_count": null,
      "outputs": []
    },
    {
      "cell_type": "markdown",
      "metadata": {
        "id": "7vnMN-Q91PKS"
      },
      "source": [
        "**Đánh giá bằng điểm MSE, MAE, R2**"
      ]
    },
    {
      "cell_type": "code",
      "metadata": {
        "colab": {
          "base_uri": "https://localhost:8080/"
        },
        "id": "a_4M95vqyrML",
        "outputId": "025efa24-b204-43a3-e4ad-5fe2f5abb282"
      },
      "source": [
        "print('MSE:', round(MSE(y_test_4, y_pred_poly_4), 6))\n",
        "print('MAE:', round(MAE(y_test_4, y_pred_poly_4), 6))\n",
        "print('R2:', round(R2(y_test_4, y_pred_poly_4), 6))"
      ],
      "execution_count": null,
      "outputs": [
        {
          "output_type": "stream",
          "name": "stdout",
          "text": [
            "MSE: 0.021187\n",
            "MAE: 0.116575\n",
            "R2: 0.935125\n"
          ]
        }
      ]
    },
    {
      "cell_type": "markdown",
      "metadata": {
        "id": "lTofmwXD0BEe"
      },
      "source": [
        "**KẾT HỢP HAI TẬP TEST**"
      ]
    },
    {
      "cell_type": "code",
      "metadata": {
        "id": "xKIt0kaQ0AcK"
      },
      "source": [
        "#Concat 2 dataset\n",
        "test_set_final = pd.concat([test_set_new, test_set_4_new])"
      ],
      "execution_count": null,
      "outputs": []
    },
    {
      "cell_type": "code",
      "metadata": {
        "colab": {
          "base_uri": "https://localhost:8080/",
          "height": 424
        },
        "id": "WuUYF_uq0aYd",
        "outputId": "a1fbf220-496e-497d-81aa-c111f907e64d"
      },
      "source": [
        "test_set_final"
      ],
      "execution_count": null,
      "outputs": [
        {
          "output_type": "execute_result",
          "data": {
            "text/html": [
              "<div>\n",
              "<style scoped>\n",
              "    .dataframe tbody tr th:only-of-type {\n",
              "        vertical-align: middle;\n",
              "    }\n",
              "\n",
              "    .dataframe tbody tr th {\n",
              "        vertical-align: top;\n",
              "    }\n",
              "\n",
              "    .dataframe thead th {\n",
              "        text-align: right;\n",
              "    }\n",
              "</style>\n",
              "<table border=\"1\" class=\"dataframe\">\n",
              "  <thead>\n",
              "    <tr style=\"text-align: right;\">\n",
              "      <th></th>\n",
              "      <th>X</th>\n",
              "      <th>y</th>\n",
              "      <th>sqrt(X)</th>\n",
              "      <th>log(X)</th>\n",
              "      <th>Xlog(X)</th>\n",
              "      <th>X^2</th>\n",
              "    </tr>\n",
              "  </thead>\n",
              "  <tbody>\n",
              "    <tr>\n",
              "      <th>0</th>\n",
              "      <td>37837612</td>\n",
              "      <td>4.12166</td>\n",
              "      <td>6151.228495</td>\n",
              "      <td>17.448814</td>\n",
              "      <td>6.602215e+08</td>\n",
              "      <td>1431684881862544</td>\n",
              "    </tr>\n",
              "    <tr>\n",
              "      <th>1</th>\n",
              "      <td>37395246</td>\n",
              "      <td>3.92089</td>\n",
              "      <td>6115.165247</td>\n",
              "      <td>17.437054</td>\n",
              "      <td>6.520629e+08</td>\n",
              "      <td>1398404423400516</td>\n",
              "    </tr>\n",
              "    <tr>\n",
              "      <th>2</th>\n",
              "      <td>36610827</td>\n",
              "      <td>3.21540</td>\n",
              "      <td>6050.688143</td>\n",
              "      <td>17.415855</td>\n",
              "      <td>6.376088e+08</td>\n",
              "      <td>1340352653623929</td>\n",
              "    </tr>\n",
              "    <tr>\n",
              "      <th>3</th>\n",
              "      <td>29555651</td>\n",
              "      <td>2.54506</td>\n",
              "      <td>5436.510922</td>\n",
              "      <td>17.201786</td>\n",
              "      <td>5.084100e+08</td>\n",
              "      <td>873536506033801</td>\n",
              "    </tr>\n",
              "    <tr>\n",
              "      <th>4</th>\n",
              "      <td>25928216</td>\n",
              "      <td>2.21831</td>\n",
              "      <td>5091.975648</td>\n",
              "      <td>17.070842</td>\n",
              "      <td>4.426165e+08</td>\n",
              "      <td>672272384942656</td>\n",
              "    </tr>\n",
              "    <tr>\n",
              "      <th>...</th>\n",
              "      <td>...</td>\n",
              "      <td>...</td>\n",
              "      <td>...</td>\n",
              "      <td>...</td>\n",
              "      <td>...</td>\n",
              "      <td>...</td>\n",
              "    </tr>\n",
              "    <tr>\n",
              "      <th>6018</th>\n",
              "      <td>54062895</td>\n",
              "      <td>4.95203</td>\n",
              "      <td>7352.747446</td>\n",
              "      <td>17.805659</td>\n",
              "      <td>9.626255e+08</td>\n",
              "      <td>2922796615781025</td>\n",
              "    </tr>\n",
              "    <tr>\n",
              "      <th>6019</th>\n",
              "      <td>67529727</td>\n",
              "      <td>6.28587</td>\n",
              "      <td>8217.647291</td>\n",
              "      <td>18.028078</td>\n",
              "      <td>1.217431e+09</td>\n",
              "      <td>4560264028694529</td>\n",
              "    </tr>\n",
              "    <tr>\n",
              "      <th>6020</th>\n",
              "      <td>60771350</td>\n",
              "      <td>5.57836</td>\n",
              "      <td>7795.598117</td>\n",
              "      <td>17.922629</td>\n",
              "      <td>1.089182e+09</td>\n",
              "      <td>3693156980822500</td>\n",
              "    </tr>\n",
              "    <tr>\n",
              "      <th>6021</th>\n",
              "      <td>62607526</td>\n",
              "      <td>5.78302</td>\n",
              "      <td>7912.491769</td>\n",
              "      <td>17.952396</td>\n",
              "      <td>1.123955e+09</td>\n",
              "      <td>3919702311840676</td>\n",
              "    </tr>\n",
              "    <tr>\n",
              "      <th>6022</th>\n",
              "      <td>50888821</td>\n",
              "      <td>4.61823</td>\n",
              "      <td>7133.640095</td>\n",
              "      <td>17.745154</td>\n",
              "      <td>9.030300e+08</td>\n",
              "      <td>2589672102770041</td>\n",
              "    </tr>\n",
              "  </tbody>\n",
              "</table>\n",
              "<p>16613 rows × 6 columns</p>\n",
              "</div>"
            ],
            "text/plain": [
              "             X        y      sqrt(X)     log(X)       Xlog(X)               X^2\n",
              "0     37837612  4.12166  6151.228495  17.448814  6.602215e+08  1431684881862544\n",
              "1     37395246  3.92089  6115.165247  17.437054  6.520629e+08  1398404423400516\n",
              "2     36610827  3.21540  6050.688143  17.415855  6.376088e+08  1340352653623929\n",
              "3     29555651  2.54506  5436.510922  17.201786  5.084100e+08   873536506033801\n",
              "4     25928216  2.21831  5091.975648  17.070842  4.426165e+08   672272384942656\n",
              "...        ...      ...          ...        ...           ...               ...\n",
              "6018  54062895  4.95203  7352.747446  17.805659  9.626255e+08  2922796615781025\n",
              "6019  67529727  6.28587  8217.647291  18.028078  1.217431e+09  4560264028694529\n",
              "6020  60771350  5.57836  7795.598117  17.922629  1.089182e+09  3693156980822500\n",
              "6021  62607526  5.78302  7912.491769  17.952396  1.123955e+09  3919702311840676\n",
              "6022  50888821  4.61823  7133.640095  17.745154  9.030300e+08  2589672102770041\n",
              "\n",
              "[16613 rows x 6 columns]"
            ]
          },
          "metadata": {},
          "execution_count": 177
        }
      ]
    },
    {
      "cell_type": "code",
      "metadata": {
        "id": "vVkdpYmC0qBn"
      },
      "source": [
        "#Split test set\n",
        "X_test_final = test_set_final.drop(columns = ['y'])\n",
        "y_test_final = test_set_final['y']"
      ],
      "execution_count": null,
      "outputs": []
    },
    {
      "cell_type": "code",
      "metadata": {
        "id": "dKQywGDU00Ci"
      },
      "source": [
        "#Predict y_pred\n",
        "y_pred_poly_final = clf_.predict(X_test_final)"
      ],
      "execution_count": null,
      "outputs": []
    },
    {
      "cell_type": "markdown",
      "metadata": {
        "id": "2YeUzHao1U7F"
      },
      "source": [
        "**Đánh giá bằng điểm MSE, MAE, R2**"
      ]
    },
    {
      "cell_type": "code",
      "metadata": {
        "colab": {
          "base_uri": "https://localhost:8080/"
        },
        "id": "uBrABTD408lA",
        "outputId": "7db2fdc0-6840-4613-848f-54cdc2ae1552"
      },
      "source": [
        "print('MSE:', round(MSE(y_test_final, y_pred_poly_final), 6))\n",
        "print('MAE:', round(MAE(y_test_final, y_pred_poly_final), 6))\n",
        "print('R2:', round(R2(y_test_final, y_pred_poly_final), 6))"
      ],
      "execution_count": null,
      "outputs": [
        {
          "output_type": "stream",
          "name": "stdout",
          "text": [
            "MSE: 0.010794\n",
            "MAE: 0.077115\n",
            "R2: 0.9951\n"
          ]
        }
      ]
    },
    {
      "cell_type": "markdown",
      "metadata": {
        "id": "Tj2Ih5Pr1rIl"
      },
      "source": [
        "**Đánh giá:**\n",
        "\n",
        "- Sau khi áp dụng polynomial, model đã có các điểm đánh giá tốt hơn đáng kể, cụ thể:\n",
        "    - Test 1, R2 scores: 0.967043 -> 0.983086\n",
        "    - Test 4, R2 scores: 0.611299 -> 0.935125\n",
        "    - Khi gộp 2 test set, R2 scores: 0.9951"
      ]
    }
  ]
}
